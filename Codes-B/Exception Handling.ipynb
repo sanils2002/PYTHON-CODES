{
 "cells": [
  {
   "cell_type": "code",
   "execution_count": 40,
   "id": "53cb21a0",
   "metadata": {},
   "outputs": [
    {
     "ename": "SyntaxError",
     "evalue": "invalid syntax (<ipython-input-40-f7bfda4cd258>, line 3)",
     "output_type": "error",
     "traceback": [
      "\u001b[1;36m  File \u001b[1;32m\"<ipython-input-40-f7bfda4cd258>\"\u001b[1;36m, line \u001b[1;32m3\u001b[0m\n\u001b[1;33m    if (a < 4)\u001b[0m\n\u001b[1;37m              ^\u001b[0m\n\u001b[1;31mSyntaxError\u001b[0m\u001b[1;31m:\u001b[0m invalid syntax\n"
     ]
    }
   ],
   "source": [
    "#syntax time error\n",
    "a=3\n",
    "if (a < 4)"
   ]
  },
  {
   "cell_type": "code",
   "execution_count": 41,
   "id": "677b5399",
   "metadata": {},
   "outputs": [
    {
     "ename": "ZeroDivisionError",
     "evalue": "division by zero",
     "output_type": "error",
     "traceback": [
      "\u001b[1;31m---------------------------------------------------------------------------\u001b[0m",
      "\u001b[1;31mZeroDivisionError\u001b[0m                         Traceback (most recent call last)",
      "\u001b[1;32m<ipython-input-41-f7eb4ecd79ee>\u001b[0m in \u001b[0;36m<module>\u001b[1;34m\u001b[0m\n\u001b[0;32m      1\u001b[0m \u001b[1;31m#divide by zero\u001b[0m\u001b[1;33m\u001b[0m\u001b[1;33m\u001b[0m\u001b[1;33m\u001b[0m\u001b[0m\n\u001b[1;32m----> 2\u001b[1;33m \u001b[1;36m5\u001b[0m\u001b[1;33m/\u001b[0m\u001b[1;36m0\u001b[0m\u001b[1;33m\u001b[0m\u001b[1;33m\u001b[0m\u001b[0m\n\u001b[0m",
      "\u001b[1;31mZeroDivisionError\u001b[0m: division by zero"
     ]
    }
   ],
   "source": [
    "#divide by zero\n",
    "5/0"
   ]
  },
  {
   "cell_type": "code",
   "execution_count": 42,
   "id": "110dd65a",
   "metadata": {},
   "outputs": [
    {
     "ename": "FileNotFoundError",
     "evalue": "[Errno 2] No such file or directory: 'D:\\\\IIIT Nagpur\\\\IT Workshop1\\\\Python\\\\demoFile5.txt'",
     "output_type": "error",
     "traceback": [
      "\u001b[1;31m---------------------------------------------------------------------------\u001b[0m",
      "\u001b[1;31mFileNotFoundError\u001b[0m                         Traceback (most recent call last)",
      "\u001b[1;32m<ipython-input-42-775c3915fcce>\u001b[0m in \u001b[0;36m<module>\u001b[1;34m\u001b[0m\n\u001b[0;32m      1\u001b[0m \u001b[1;31m# file not found error\u001b[0m\u001b[1;33m\u001b[0m\u001b[1;33m\u001b[0m\u001b[1;33m\u001b[0m\u001b[0m\n\u001b[1;32m----> 2\u001b[1;33m \u001b[0mf\u001b[0m \u001b[1;33m=\u001b[0m \u001b[0mopen\u001b[0m\u001b[1;33m(\u001b[0m\u001b[1;34m\"D:\\\\IIIT Nagpur\\\\IT Workshop1\\\\Python\\\\demoFile5.txt\"\u001b[0m\u001b[1;33m,\u001b[0m \u001b[1;34m\"r\"\u001b[0m\u001b[1;33m)\u001b[0m\u001b[1;33m\u001b[0m\u001b[1;33m\u001b[0m\u001b[0m\n\u001b[0m",
      "\u001b[1;31mFileNotFoundError\u001b[0m: [Errno 2] No such file or directory: 'D:\\\\IIIT Nagpur\\\\IT Workshop1\\\\Python\\\\demoFile5.txt'"
     ]
    }
   ],
   "source": [
    "# file not found error\n",
    "f = open(\"D:\\\\IIIT Nagpur\\\\IT Workshop1\\\\Python\\\\demoFile5.txt\", \"r\")"
   ]
  },
  {
   "cell_type": "code",
   "execution_count": 43,
   "id": "630b11a9",
   "metadata": {},
   "outputs": [
    {
     "ename": "ModuleNotFoundError",
     "evalue": "No module named 'sample2'",
     "output_type": "error",
     "traceback": [
      "\u001b[1;31m---------------------------------------------------------------------------\u001b[0m",
      "\u001b[1;31mModuleNotFoundError\u001b[0m                       Traceback (most recent call last)",
      "\u001b[1;32m<ipython-input-43-ee270f296a84>\u001b[0m in \u001b[0;36m<module>\u001b[1;34m\u001b[0m\n\u001b[0;32m      1\u001b[0m \u001b[1;32mimport\u001b[0m \u001b[0mos\u001b[0m\u001b[1;33m\u001b[0m\u001b[1;33m\u001b[0m\u001b[0m\n\u001b[1;32m----> 2\u001b[1;33m \u001b[1;32mimport\u001b[0m \u001b[0msample2\u001b[0m\u001b[1;33m\u001b[0m\u001b[1;33m\u001b[0m\u001b[0m\n\u001b[0m",
      "\u001b[1;31mModuleNotFoundError\u001b[0m: No module named 'sample2'"
     ]
    }
   ],
   "source": [
    "import os\n",
    "import sample2"
   ]
  },
  {
   "cell_type": "code",
   "execution_count": null,
   "id": "da44da93",
   "metadata": {},
   "outputs": [],
   "source": [
    "# handle exception syntax\n",
    "try:\n",
    "    opening a file doea not exist\n",
    "  the operation which can cause exception here,\n",
    "except Exception1:\n",
    " if there is exception1, execute this.\n",
    "except Exception2:\n",
    " if there is exception2, execute this.\n",
    "#.........................\n",
    "else:\n",
    "finally:\n",
    "    f.close()\n",
    "#if no exception occurs, execute this."
   ]
  },
  {
   "cell_type": "code",
   "execution_count": 46,
   "id": "393c209e",
   "metadata": {},
   "outputs": [
    {
     "name": "stdout",
     "output_type": "stream",
     "text": [
      "Enter an positive integer:-100\n",
      "Negative Number\n"
     ]
    }
   ],
   "source": [
    "# EXCEPTION HANDLING\n",
    "# try...except....else.....finally\n",
    "\n",
    "# IOError exception, if file is not present\n",
    "\"\"\"\n",
    "try:\n",
    "    f = open (\"D:\\\\IIITN\\\\Python\\\\demoFile5.txt\", \"r\")\n",
    "    f.readline()\n",
    "except IOError :\n",
    "     print(\"Error in opening or reading file\")\n",
    "else :\n",
    "     print(\"Successful\")\n",
    "finally:\n",
    "     f.close()\n",
    "\"\"\"     \n",
    "#--------------------------------------------------------------------------------------------------------------------------------------\n",
    "# EXCEPT WITHOUT EXCEPTION\n",
    "\n",
    "# while True:\n",
    "#     b = 1\n",
    "#     try:\n",
    "#         a = int (input(\"Enter an integer:\"))\n",
    "#         b = 24 / a\n",
    "#         break\n",
    "#     except:\n",
    "#         print(\"Enter a Positive Number\")\n",
    "# print(\"Answer = \", b)\n",
    "\n",
    "#--------------------------------------------------------------------------------------------------------------------------------------\n",
    "\n",
    "# USE OF FINALLY\n",
    "# try:\n",
    "#     f = open (\"D:\\\\IIITN\\\\Python\\\\demoFile4.txt\", \"r\")\n",
    "#     f.readline()\n",
    "# except IOError:\n",
    "#     print(\"Error in opening or reading file\")\n",
    "# else :\n",
    "#     print(\"Successful\")\n",
    "# finally:\n",
    "#     f.close()\n",
    "#     print(\"File Closed\")\n",
    "\n",
    "#---------------------------------------------------------------------------------------------------------------------------------------\n",
    "\n",
    "# USER DEFINED EXCEPTION\n",
    "class NegativeNum(Exception):\n",
    "    msg = \"Negative Number\"\n",
    "try:\n",
    "    n = int(input(\"Enter an positive integer:\"))\n",
    "    if n < 0:\n",
    "        raise NegativeNum\n",
    "    else:\n",
    "        print(\"The number you have entered is:\", n)\n",
    "except NegativeNum as Err:\n",
    "    print(Err.msg)   "
   ]
  },
  {
   "cell_type": "code",
   "execution_count": null,
   "id": "fb87663f",
   "metadata": {},
   "outputs": [],
   "source": []
  },
  {
   "cell_type": "code",
   "execution_count": null,
   "id": "ecb7b7dc",
   "metadata": {},
   "outputs": [],
   "source": []
  }
 ],
 "metadata": {
  "kernelspec": {
   "display_name": "Python 3",
   "language": "python",
   "name": "python3"
  },
  "language_info": {
   "codemirror_mode": {
    "name": "ipython",
    "version": 3
   },
   "file_extension": ".py",
   "mimetype": "text/x-python",
   "name": "python",
   "nbconvert_exporter": "python",
   "pygments_lexer": "ipython3",
   "version": "3.9.5"
  }
 },
 "nbformat": 4,
 "nbformat_minor": 5
}
