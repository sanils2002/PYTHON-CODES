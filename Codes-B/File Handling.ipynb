{
 "cells": [
  {
   "cell_type": "code",
   "execution_count": 4,
   "id": "eac7e033",
   "metadata": {},
   "outputs": [
    {
     "name": "stdout",
     "output_type": "stream",
     "text": [
      "Nagpur is the third largest city and the winter capital of the Indian state of Maharashtra.\n",
      "\n",
      "93\n",
      "Nagpur is the third largest city and the winter capital of the Indian state of Maharashtra.\n",
      "\n"
     ]
    }
   ],
   "source": [
    "# READING FILE\n",
    "\n",
    "# f = open(\"D:\\\\IIITN\\\\Python\\\\demoFile.txt\", \"r\")\n",
    "# print(f.read())\n",
    "# print(f.read(5))\n",
    "\n",
    "# print(f.readline())\n",
    "# print(f.readline())\n",
    "# contents = f.readlines()\n",
    "# print(type(contents))\n",
    "\n",
    "\n",
    "# for x in f:\n",
    "#   print(x)           # Reads 1 line at a time\n",
    "  \n",
    "# f.close()\n",
    "#--------------------------------------------------------------------------------------------------------------------------------------------------------------\n",
    "\n",
    "# APPENDING FILE\n",
    "# f = open(\"D:\\\\IIITN\\\\Python\\\\demoFile2.txt\", \"a\")\n",
    "# f.write(\"Nagpur is named after the Great river Nag which flows through the city.\")\n",
    "# f.close()\n",
    "\n",
    "# #open and read the file after the appending:\n",
    "# f = open(\"D:\\\\IIITN\\\\Python\\\\demoFile2.txt\", \"r\")\n",
    "# print(f.read())\n",
    "\n",
    "# f.close()\n",
    "#-----------------------------------------------------------------------------------------------------------------------------------------------\n",
    "\n",
    "# # WRITING TO A FILE\n",
    "# f = open(\"D:\\\\IIITN\\\\Python\\\\demoFile3.txt\", \"w\")\n",
    "# f.write(\"CONTENTS ARE DELETED !!!\")\n",
    "# f.close()\n",
    "\n",
    "# #open and read the file after the appending:\n",
    "# f = open(\"D:\\\\IIITN\\\\Python\\\\demoFile3.txt\", \"r\")\n",
    "# print(f.read())\n",
    "\n",
    "# # FILE ATTRIBUTES\n",
    "# if not(f.closed) :         # Returns true if file is closed\n",
    "#     print(\"File is not closed. Kindly Close the file\")\n",
    "\n",
    "# print(\"The mode in which file is open:\", f.mode)     # returns the file mode\n",
    "\n",
    "# print(\"The name of the file is:\", f.name)           # returns filename\n",
    "\n",
    "# SOME MORE FUNCTIONS\n",
    "# f = open(\"D:\\\\IIIT Nagpur\\\\IT Workshop1\\\\Python\\\\demoFile.txt\", \"r\")\n",
    "# print(f.read())\n",
    "# f.flush() # Flushes the internal buffer memory\n",
    "# print(f.fileno)   # Prints the internal file discriptor\n",
    "\n",
    "f = open(\"D:\\\\IIIT Nagpur\\\\IT Workshop1\\\\Python\\\\demoFile.txt\", \"r\")\n",
    "# print(f.read())\n",
    "# print(f.tell())\n",
    "# print(f.read(5))\n",
    "\n",
    "print(f.readline())\n",
    "print(f.tell()) \n",
    "f.seek(0)  \n",
    "print(f.readline())\n",
    "\n",
    "\n",
    "\n",
    "#------------------------------------------------------------------------------------------------------------------------------------------------\n",
    "\n",
    "# # DELETING A FILE\n",
    "import os\n",
    "os.remove(\"D:\\\\IIIT Nagpur\\\\IT Workshop1\\\\Python\\\\demoFile3.txt\")\n",
    "print(\"File is deleted!!!\")"
   ]
  },
  {
   "cell_type": "code",
   "execution_count": null,
   "id": "686ae47e",
   "metadata": {},
   "outputs": [],
   "source": []
  }
 ],
 "metadata": {
  "kernelspec": {
   "display_name": "Python 3",
   "language": "python",
   "name": "python3"
  },
  "language_info": {
   "codemirror_mode": {
    "name": "ipython",
    "version": 3
   },
   "file_extension": ".py",
   "mimetype": "text/x-python",
   "name": "python",
   "nbconvert_exporter": "python",
   "pygments_lexer": "ipython3",
   "version": "3.9.5"
  }
 },
 "nbformat": 4,
 "nbformat_minor": 5
}
